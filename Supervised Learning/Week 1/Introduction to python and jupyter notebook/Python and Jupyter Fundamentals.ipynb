{
 "cells": [
  {
   "cell_type": "markdown",
   "id": "0603732f-c629-4895-9e98-979d5ba5d6bb",
   "metadata": {},
   "source": [
    "An example of a markdown description"
   ]
  },
  {
   "cell_type": "code",
   "execution_count": 1,
   "id": "8421a8d2-1932-458d-b20d-94afed9b1534",
   "metadata": {},
   "outputs": [
    {
     "name": "stdout",
     "output_type": "stream",
     "text": [
      "This is a code cell\n"
     ]
    }
   ],
   "source": [
    "# Print \"This is a code cell\"\n",
    "print(\"This is a code cell\")"
   ]
  },
  {
   "cell_type": "code",
   "execution_count": 2,
   "id": "72dd3cdb-230c-4b71-a08c-2cd418567d8a",
   "metadata": {},
   "outputs": [
    {
     "name": "stdout",
     "output_type": "stream",
     "text": [
      "My name is Patrick Ndirangu Maina\n"
     ]
    }
   ],
   "source": [
    "# Printing several statements\n",
    "variable = \"Patrick Ndirangu Maina\"\n",
    "print(f\"My name is {variable}\")"
   ]
  }
 ],
 "metadata": {
  "kernelspec": {
   "display_name": "Python 3 (ipykernel)",
   "language": "python",
   "name": "python3"
  },
  "language_info": {
   "codemirror_mode": {
    "name": "ipython",
    "version": 3
   },
   "file_extension": ".py",
   "mimetype": "text/x-python",
   "name": "python",
   "nbconvert_exporter": "python",
   "pygments_lexer": "ipython3",
   "version": "3.9.19"
  }
 },
 "nbformat": 4,
 "nbformat_minor": 5
}
