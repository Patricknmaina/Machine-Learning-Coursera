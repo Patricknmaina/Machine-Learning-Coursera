{
 "cells": [
  {
   "cell_type": "markdown",
   "id": "d72685fb-06a9-41b2-804f-c705b6138428",
   "metadata": {},
   "source": [
    "# Derivatives\n",
    "\n",
    "This segment covers a simple way of calculating derivatives arithmetically.\n",
    "\n",
    "We import the required libraries."
   ]
  },
  {
   "cell_type": "code",
   "execution_count": 3,
   "id": "2afe26f4-fe5e-4fe7-8ce8-2d27aa144915",
   "metadata": {},
   "outputs": [],
   "source": [
    "from sympy import symbols, diff"
   ]
  },
  {
   "cell_type": "markdown",
   "id": "55a718b9-ce69-45c2-89d9-39363d488903",
   "metadata": {},
   "source": [
    "## Informal definition of derivatives.\n",
    "\n",
    "The derivative of a function illustrates how the output of a function changes when there is a small change in an input variable.\n",
    "\n",
    "An example is the cost function $J(w)$, where cost $J$ is the output and $w$ is the input variable. We can give a 'small change' a name *epsilon* or $\\epsilon$\n",
    "\n",
    "$$\n",
    "\\begin{equation}\n",
    "\\text{if } w \\uparrow \\epsilon \\text{ causes }J(w) \\uparrow \\text{by }k \\times \\epsilon \\text{ then}  \\\\\n",
    "\\frac{\\partial J(w)}{\\partial w} = k \\tag{1}\n",
    "\\end{equation}\n",
    "$$\n",
    "\n",
    "This implies that changing the input to the function $J(w)$ by a little bit changes the output by $k$ times, and the derivative of $J(w)$ becomes equal to $k$\n",
    "\n",
    "We can look at the derivative of the function $J(w) = w^2$ at the point $w=3$ and $\\epsilon = 0.001$"
   ]
  },
  {
   "cell_type": "code",
   "execution_count": 5,
   "id": "3be1e0fc-8bf0-4e73-a559-5d3c0139602b",
   "metadata": {},
   "outputs": [
    {
     "name": "stdout",
     "output_type": "stream",
     "text": [
      "J = 9, J_epsilon = 9.006001, dJ_dw ~= k = 6.001000 \n"
     ]
    }
   ],
   "source": [
    "J = (3)**2\n",
    "J_epsilon = (3 + 0.001)**2\n",
    "k = (J_epsilon - J)/0.001   # difference divided by epsilon\n",
    "print(f\"J = {J}, J_epsilon = {J_epsilon}, dJ_dw ~= k = {k:0.6f} \")"
   ]
  },
  {
   "cell_type": "markdown",
   "id": "d9054fb5-cd75-48ae-beb6-97e37d3e95a2",
   "metadata": {},
   "source": [
    "From the code above, the input value has been increased a little bit (0.001), changing the output from 9 to 9.006001, an increase of 6 times the input increase. From equation (1) above, this implies that $k = 6$, so $\\frac{\\partial J(w)}{\\partial w} \\approx 6$. The calculation above is not exactly 6 because to be exact, $\\epsilon$ would need to be [infinitesimally small](https://www.dictionary.com/browse/infinitesimally), or really small.\n",
    "Next, we can make $\\epsilon$ smaller."
   ]
  },
  {
   "cell_type": "code",
   "execution_count": 6,
   "id": "93b221f8-d933-4ccd-9501-4c78aff9768d",
   "metadata": {},
   "outputs": [
    {
     "name": "stdout",
     "output_type": "stream",
     "text": [
      "J = 9, J_epsilon = 9.000000006, dJ_dw ~= k = 6.000000496442226 \n"
     ]
    }
   ],
   "source": [
    "J = (3)**2\n",
    "J_epsilon = (3 + 0.000000001)**2\n",
    "k = (J_epsilon - J)/0.000000001\n",
    "print(f\"J = {J}, J_epsilon = {J_epsilon}, dJ_dw ~= k = {k} \")"
   ]
  },
  {
   "cell_type": "markdown",
   "id": "a9269dee-f7bc-43e1-9534-1415fca7e509",
   "metadata": {},
   "source": [
    "The value of k gets close to exactly 6 as we reduce the size of $\\epsilon$."
   ]
  },
  {
   "cell_type": "markdown",
   "id": "c3ce181a-572a-412b-86da-d02980836fb8",
   "metadata": {},
   "source": [
    "## Finding symbolic derivatives\n",
    "\n",
    "In backprop, it is useful to know the derivative of simple functions at any input value, that is determining the symbolic derivative rather than the arithmetic derivative. An example of a symbolic derivative is $\\frac{\\partial J(w)}{\\partial w} = 2 w$.\n",
    "An example of a library in python that calculates the derivative of a given expression is [SymPy](https://www.sympy.org/en/index.html)"
   ]
  },
  {
   "cell_type": "markdown",
   "id": "e6674c38-ea2b-47f0-91e9-be5ebd19641e",
   "metadata": {},
   "source": [
    "### $J = w^2$\n",
    "Define the python variables and their symbolic names."
   ]
  },
  {
   "cell_type": "code",
   "execution_count": 7,
   "id": "9bf8b93f-e062-44c5-8f36-053803d7654b",
   "metadata": {},
   "outputs": [],
   "source": [
    "J, w = symbols('J, w')"
   ]
  },
  {
   "cell_type": "markdown",
   "id": "b0e8ee76-3046-4ca3-baa3-43169696024e",
   "metadata": {},
   "source": [
    "Define and print the expression."
   ]
  },
  {
   "cell_type": "code",
   "execution_count": 8,
   "id": "96e7b940-a9d8-43b2-8ef0-5a0c3ca750d6",
   "metadata": {},
   "outputs": [
    {
     "data": {
      "text/latex": [
       "$\\displaystyle w^{2}$"
      ],
      "text/plain": [
       "w**2"
      ]
     },
     "execution_count": 8,
     "metadata": {},
     "output_type": "execute_result"
    }
   ],
   "source": [
    "J = w**2\n",
    "J"
   ]
  },
  {
   "cell_type": "markdown",
   "id": "04dc28e4-84ec-4a49-b10b-83bece4fd5fe",
   "metadata": {},
   "source": [
    "Use SymPy's `diff` to differentiate the expression for $J$ w.r.t $w$"
   ]
  },
  {
   "cell_type": "code",
   "execution_count": 9,
   "id": "9182bc5e-696c-4b68-8112-ce8a197ec37a",
   "metadata": {},
   "outputs": [
    {
     "data": {
      "text/latex": [
       "$\\displaystyle 2 w$"
      ],
      "text/plain": [
       "2*w"
      ]
     },
     "execution_count": 9,
     "metadata": {},
     "output_type": "execute_result"
    }
   ],
   "source": [
    "dJ_dw = diff(J,w)\n",
    "dJ_dw"
   ]
  },
  {
   "cell_type": "markdown",
   "id": "56217482-4c19-4804-b184-7d1d14fe7fa8",
   "metadata": {},
   "source": [
    "Evaluate the derivative at a few points by substituting numeric values for the symbolic values."
   ]
  },
  {
   "cell_type": "code",
   "execution_count": 11,
   "id": "4001710a-50c1-4cc9-819c-a4331605ea82",
   "metadata": {},
   "outputs": [
    {
     "data": {
      "text/latex": [
       "$\\displaystyle 4$"
      ],
      "text/plain": [
       "4"
      ]
     },
     "execution_count": 11,
     "metadata": {},
     "output_type": "execute_result"
    }
   ],
   "source": [
    "dJ_dw.subs([(w,2)])  # derivative at the point w = 2"
   ]
  },
  {
   "cell_type": "code",
   "execution_count": 12,
   "id": "f5e4de03-f85c-4d37-b2ad-3a194a7b1af1",
   "metadata": {},
   "outputs": [
    {
     "data": {
      "text/latex": [
       "$\\displaystyle 6$"
      ],
      "text/plain": [
       "6"
      ]
     },
     "execution_count": 12,
     "metadata": {},
     "output_type": "execute_result"
    }
   ],
   "source": [
    "dJ_dw.subs([(w,3)])  # derivative at the point w = 3"
   ]
  },
  {
   "cell_type": "code",
   "execution_count": 13,
   "id": "dce017dc-4259-43e9-a7b7-a5b03112e71a",
   "metadata": {},
   "outputs": [
    {
     "data": {
      "text/latex": [
       "$\\displaystyle -6$"
      ],
      "text/plain": [
       "-6"
      ]
     },
     "execution_count": 13,
     "metadata": {},
     "output_type": "execute_result"
    }
   ],
   "source": [
    "dJ_dw.subs([(w,-3)])  # derivative at the point w = -3"
   ]
  },
  {
   "cell_type": "code",
   "execution_count": 14,
   "id": "6a75b6bf-eb81-4b1e-87d7-0f6e459c80d6",
   "metadata": {},
   "outputs": [
    {
     "data": {
      "text/latex": [
       "$\\displaystyle 20$"
      ],
      "text/plain": [
       "20"
      ]
     },
     "execution_count": 14,
     "metadata": {},
     "output_type": "execute_result"
    }
   ],
   "source": [
    "dJ_dw.subs([(w,10)])  # derivative at the point w = 10"
   ]
  },
  {
   "cell_type": "markdown",
   "id": "ffe44df2-9e4d-40a0-ac19-9b15f94dfc92",
   "metadata": {},
   "source": [
    "## $J = 2w$"
   ]
  },
  {
   "cell_type": "code",
   "execution_count": 15,
   "id": "6ff6e7b0-6db4-4a73-ac29-952d1edcd7b9",
   "metadata": {},
   "outputs": [],
   "source": [
    "w, J = symbols('w, J')"
   ]
  },
  {
   "cell_type": "code",
   "execution_count": 16,
   "id": "62cafb2a-c040-4850-832e-b8a032412729",
   "metadata": {},
   "outputs": [
    {
     "data": {
      "text/latex": [
       "$\\displaystyle 2 w$"
      ],
      "text/plain": [
       "2*w"
      ]
     },
     "execution_count": 16,
     "metadata": {},
     "output_type": "execute_result"
    }
   ],
   "source": [
    "J = 2 * w\n",
    "J"
   ]
  },
  {
   "cell_type": "code",
   "execution_count": 17,
   "id": "8c125faa-b8af-4c76-bcf0-3069e80af90c",
   "metadata": {},
   "outputs": [
    {
     "data": {
      "text/latex": [
       "$\\displaystyle 2$"
      ],
      "text/plain": [
       "2"
      ]
     },
     "execution_count": 17,
     "metadata": {},
     "output_type": "execute_result"
    }
   ],
   "source": [
    "dJ_dw = diff(J,w)\n",
    "dJ_dw"
   ]
  },
  {
   "cell_type": "code",
   "execution_count": 18,
   "id": "7af4ae58-932b-4f8c-a692-ec129ae502a2",
   "metadata": {},
   "outputs": [
    {
     "data": {
      "text/latex": [
       "$\\displaystyle 2$"
      ],
      "text/plain": [
       "2"
      ]
     },
     "execution_count": 18,
     "metadata": {},
     "output_type": "execute_result"
    }
   ],
   "source": [
    "dJ_dw.subs([(w,-3)])"
   ]
  },
  {
   "cell_type": "markdown",
   "id": "e2e96e0e-c4e9-415f-b236-0f0195bb6249",
   "metadata": {},
   "source": [
    "Compare this with the arithmetic calculation"
   ]
  },
  {
   "cell_type": "code",
   "execution_count": 19,
   "id": "2d196c15-07b1-4c3a-8ac3-9009a8c478c0",
   "metadata": {},
   "outputs": [
    {
     "name": "stdout",
     "output_type": "stream",
     "text": [
      "J = 6, J_epsilon = 6.002, dJ_dw ~= k = 1.9999999999997797 \n"
     ]
    }
   ],
   "source": [
    "J = 2*3\n",
    "J_epsilon = 2 * (3 + 0.001)\n",
    "k = (J_epsilon - J) / 0.001\n",
    "print(f\"J = {J}, J_epsilon = {J_epsilon}, dJ_dw ~= k = {k} \")"
   ]
  },
  {
   "cell_type": "markdown",
   "id": "98c0b666-6ab9-401e-8a92-26b1434ed89e",
   "metadata": {},
   "source": [
    "For the function $J = 2w$, any change in $w$ will result in 2 times that amount of change in output $J$, irrespective of the starting value of $w$"
   ]
  },
  {
   "cell_type": "markdown",
   "id": "b6c8cf85-1f37-49a3-b393-370962e1cd44",
   "metadata": {},
   "source": [
    "## $J = \\frac{1}{w^2}$"
   ]
  },
  {
   "cell_type": "code",
   "execution_count": 20,
   "id": "c028ea16-9b80-4404-855a-a051ce625080",
   "metadata": {},
   "outputs": [],
   "source": [
    "J, w = symbols('J, w')"
   ]
  },
  {
   "cell_type": "code",
   "execution_count": 21,
   "id": "8f4453e2-dc96-4b7b-86b5-dff3e8bd4542",
   "metadata": {},
   "outputs": [
    {
     "data": {
      "text/latex": [
       "$\\displaystyle \\frac{1}{w^{2}}$"
      ],
      "text/plain": [
       "w**(-2)"
      ]
     },
     "execution_count": 21,
     "metadata": {},
     "output_type": "execute_result"
    }
   ],
   "source": [
    "J = 1 / w**2\n",
    "J"
   ]
  },
  {
   "cell_type": "code",
   "execution_count": 22,
   "id": "4fac94a0-9a09-4376-ae62-bf35036cc974",
   "metadata": {},
   "outputs": [
    {
     "data": {
      "text/latex": [
       "$\\displaystyle - \\frac{2}{w^{3}}$"
      ],
      "text/plain": [
       "-2/w**3"
      ]
     },
     "execution_count": 22,
     "metadata": {},
     "output_type": "execute_result"
    }
   ],
   "source": [
    "dJ_dw = diff(J, w)\n",
    "dJ_dw"
   ]
  },
  {
   "cell_type": "code",
   "execution_count": 23,
   "id": "6f30108f-dde9-406a-9a1d-d31d60ad3724",
   "metadata": {},
   "outputs": [
    {
     "data": {
      "text/latex": [
       "$\\displaystyle - \\frac{1}{32}$"
      ],
      "text/plain": [
       "-1/32"
      ]
     },
     "execution_count": 23,
     "metadata": {},
     "output_type": "execute_result"
    }
   ],
   "source": [
    "dJ_dw.subs([(w,4)])   # differenciate at the point w = 4"
   ]
  },
  {
   "cell_type": "markdown",
   "id": "9b6dc7d1-b507-469c-865f-e189791e0066",
   "metadata": {},
   "source": [
    "Compare with arithmetic calculation"
   ]
  },
  {
   "cell_type": "code",
   "execution_count": 24,
   "id": "016a6255-08b9-4eb7-813a-0c06f7b97dcb",
   "metadata": {},
   "outputs": [
    {
     "name": "stdout",
     "output_type": "stream",
     "text": [
      "J = 0.0625, J_epsilon = 0.06246876171484496, dJ_dw ~= k = -0.031238285155041345 \n"
     ]
    }
   ],
   "source": [
    "J = 1 / 4**2\n",
    "J_epsilon = 1 / (4+0.001)**2\n",
    "k = (J_epsilon - J) / 0.001\n",
    "print(f\"J = {J}, J_epsilon = {J_epsilon}, dJ_dw ~= k = {k} \")"
   ]
  }
 ],
 "metadata": {
  "kernelspec": {
   "display_name": "Python 3 (ipykernel)",
   "language": "python",
   "name": "python3"
  },
  "language_info": {
   "codemirror_mode": {
    "name": "ipython",
    "version": 3
   },
   "file_extension": ".py",
   "mimetype": "text/x-python",
   "name": "python",
   "nbconvert_exporter": "python",
   "pygments_lexer": "ipython3",
   "version": "3.9.19"
  }
 },
 "nbformat": 4,
 "nbformat_minor": 5
}
